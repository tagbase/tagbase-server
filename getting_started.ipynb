{
 "cells": [
  {
   "cell_type": "code",
   "execution_count": null,
   "metadata": {},
   "outputs": [],
   "source": [
    "pip install testcontainers[compose]"
   ]
  },
  {
   "cell_type": "code",
   "execution_count": null,
   "metadata": {},
   "outputs": [],
   "source": [
    "from testcontainers.compose import DockerCompose\n",
    "\n",
    "with DockerCompose(\".\",\n",
    "                   compose_file_name=[\"docker-compose.yml\"],\n",
    "                   pull=True, build=True) as compose:\n",
    "    compose.start()\n",
    "    stdout, stderr = compose.get_logs()\n",
    "    if stderr:\n",
    "        print(\"Errors\\n:{}\".format(stderr))"
   ]
  }
 ],
 "metadata": {
  "kernelspec": {
   "display_name": "Python 3",
   "language": "python",
   "name": "python3"
  },
  "language_info": {
   "codemirror_mode": {
    "name": "ipython",
    "version": 3
   },
   "file_extension": ".py",
   "mimetype": "text/x-python",
   "name": "python",
   "nbconvert_exporter": "python",
   "pygments_lexer": "ipython3",
   "version": "3.6.7"
  }
 },
 "nbformat": 4,
 "nbformat_minor": 4
}
